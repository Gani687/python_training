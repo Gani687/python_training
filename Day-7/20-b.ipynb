{
 "cells": [
  {
   "cell_type": "markdown",
   "id": "0b81fa0b-ce8c-42be-b27e-f2096b40d1bb",
   "metadata": {},
   "source": [
    "# 20-B. Titanic-https://www.kaggle.com/c/titanic/data\n",
    "Database of whether somebody survived or not\n",
    "Can you infer who has survived ?\n",
    "\n",
    "1. Load the data\n",
    "2. Which gender survived more \n",
    "3. Does it depend on pclass?\n",
    "4. can we see % of survival of each gender and pclass \n",
    "What is your inference? "
   ]
  },
  {
   "cell_type": "code",
   "execution_count": 2,
   "id": "6cffbe63-a47e-4a81-9c13-05bf76edcb16",
   "metadata": {},
   "outputs": [],
   "source": [
    "import numpy as np\n",
    "import pandas as pd \n",
    "import matplotlib.pyplot as plt\n",
    "data = pd.read_csv(r\"code\\data\\titanic_train.csv\")"
   ]
  },
  {
   "cell_type": "code",
   "execution_count": 4,
   "id": "c8a0010d-abe4-491c-bf2d-c70c8a0dbad1",
   "metadata": {},
   "outputs": [],
   "source": [
    "s=data.groupby('sex')['survived'].count()"
   ]
  },
  {
   "cell_type": "code",
   "execution_count": 5,
   "id": "1c04e27d-d1e8-4511-9691-d5d378a779f2",
   "metadata": {},
   "outputs": [
    {
     "data": {
      "text/plain": [
       "sex\n",
       "female    314\n",
       "male      577\n",
       "Name: survived, dtype: int64"
      ]
     },
     "execution_count": 5,
     "metadata": {},
     "output_type": "execute_result"
    }
   ],
   "source": [
    "s"
   ]
  },
  {
   "cell_type": "code",
   "execution_count": 6,
   "id": "0bde46dc-65c1-4b99-9018-7514c8041ffe",
   "metadata": {},
   "outputs": [],
   "source": [
    "p=data.groupby('pclass')['survived'].mean()"
   ]
  },
  {
   "cell_type": "code",
   "execution_count": 7,
   "id": "6130a92b-3dc1-42ab-952d-7a13bcbbaea7",
   "metadata": {},
   "outputs": [
    {
     "data": {
      "text/plain": [
       "pclass\n",
       "1    0.629630\n",
       "2    0.472826\n",
       "3    0.242363\n",
       "Name: survived, dtype: float64"
      ]
     },
     "execution_count": 7,
     "metadata": {},
     "output_type": "execute_result"
    }
   ],
   "source": [
    "p"
   ]
  },
  {
   "cell_type": "code",
   "execution_count": 8,
   "id": "ea583a1c-4f11-439e-abd1-7f13389fc869",
   "metadata": {},
   "outputs": [],
   "source": [
    "per=data.groupby(['sex','pclass'])['survived'].mean()*100"
   ]
  },
  {
   "cell_type": "code",
   "execution_count": 9,
   "id": "2732fc03-8502-438c-b44d-0094b2a3e83d",
   "metadata": {},
   "outputs": [
    {
     "data": {
      "text/plain": [
       "sex     pclass\n",
       "female  1         96.808511\n",
       "        2         92.105263\n",
       "        3         50.000000\n",
       "male    1         36.885246\n",
       "        2         15.740741\n",
       "        3         13.544669\n",
       "Name: survived, dtype: float64"
      ]
     },
     "execution_count": 9,
     "metadata": {},
     "output_type": "execute_result"
    }
   ],
   "source": [
    "per"
   ]
  }
 ],
 "metadata": {
  "kernelspec": {
   "display_name": "Python 3 (ipykernel)",
   "language": "python",
   "name": "python3"
  },
  "language_info": {
   "codemirror_mode": {
    "name": "ipython",
    "version": 3
   },
   "file_extension": ".py",
   "mimetype": "text/x-python",
   "name": "python",
   "nbconvert_exporter": "python",
   "pygments_lexer": "ipython3",
   "version": "3.12.8"
  }
 },
 "nbformat": 4,
 "nbformat_minor": 5
}
