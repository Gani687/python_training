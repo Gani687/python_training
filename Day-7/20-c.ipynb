{
 "cells": [
  {
   "cell_type": "markdown",
   "id": "180af47f-895f-4ca6-871e-55fc20ecf708",
   "metadata": {},
   "source": [
    "# 20-C. Roger Federer database \n",
    "\n",
    "Each row corresponds to a ATP match played by Roger Federer\n",
    "\n",
    "Can you infer anything on Roger Federer performance?\n",
    "\n",
    "player = 'Roger Federer'\n",
    "url = \"https://raw.githubusercontent.com/ndas1971/Misc/master/federer.csv\"\n",
    "\n",
    "1. Read and check data \n",
    "2. How many % of matched won by our player? ('winner')\n",
    "3. Proportion of double faults wrt total points in each match \n",
    "This number is an indicator of the player's state of mind, his level of self-confidence, \n",
    "his willingness to take risks while serving, and other parameters.\n",
    "columns:\n",
    "'player1 double faults' and 'player1 total points total'\n",
    "Display simple stats of above \n",
    "4. Average Win per surface \n",
    "5. Display the proportion of double faults as a function of the tournament date, 'start date'\n",
    "Trend: display average double faults in each year "
   ]
  },
  {
   "cell_type": "code",
   "execution_count": 1,
   "id": "9db2ccad-ee37-4078-8b31-aa805427f043",
   "metadata": {},
   "outputs": [],
   "source": [
    "import numpy as np\n",
    "import pandas as pd \n",
    "import matplotlib.pyplot as plt\n",
    "data=pd.read_csv(r\"code\\data\\federer.csv\")"
   ]
  },
  {
   "cell_type": "code",
   "execution_count": 47,
   "id": "3bd82eb3-6dbe-46cd-9d28-195f5ac58d00",
   "metadata": {},
   "outputs": [
    {
     "data": {
      "text/plain": [
       "82.44274809160305"
      ]
     },
     "execution_count": 47,
     "metadata": {},
     "output_type": "execute_result"
    }
   ],
   "source": [
    "matches_won = data[data['winner'] == 'Roger Federer'].shape[0]\n",
    "total=data.shape[0]\n",
    "per=(matches_won/total)*100\n",
    "per"
   ]
  },
  {
   "cell_type": "code",
   "execution_count": 49,
   "id": "96a58601-7986-4a73-83ba-0541d5250f67",
   "metadata": {},
   "outputs": [
    {
     "data": {
      "text/plain": [
       "Index(['year', 'tournament', 'start date', 'type', 'surface', 'draw',\n",
       "       'atp points', 'atp ranking', 'tournament prize money', 'round',\n",
       "       'opponent', 'ranking', 'score', 'stats link', 'tournament.1',\n",
       "       'tournament round', 'time', 'winner', 'player1 name',\n",
       "       'player1 nationality', 'player1 aces', 'player1 double faults',\n",
       "       'player1 1st serves in', 'player1 1st serves total',\n",
       "       'player1 1st serve points won', 'player1 1st serve points total',\n",
       "       'player1 2nd serve points won', 'player1 2nd serve points total',\n",
       "       'player1 break points won', 'player1 break points total',\n",
       "       'player1 service games played', 'player1 1st serve return points won',\n",
       "       'player1 1st serve return points total',\n",
       "       'player1 2nd serve return points won',\n",
       "       'player1 2nd serve return points total',\n",
       "       'player1 break points converted won',\n",
       "       'player1 break points converted total', 'player1 return games played',\n",
       "       'player1 total service points won',\n",
       "       'player1 total service points total', 'player1 total return points won',\n",
       "       'player1 total return points total', 'player1 total points won',\n",
       "       'player1 total points total', 'player2 name', 'player2 nationality',\n",
       "       'player2 aces', 'player2 double faults', 'player2 1st serves in',\n",
       "       'player2 1st serves total', 'player2 1st serve points won',\n",
       "       'player2 1st serve points total', 'player2 2nd serve points won',\n",
       "       'player2 2nd serve points total', 'player2 break points won',\n",
       "       'player2 break points total', 'player2 service games played',\n",
       "       'player2 1st serve return points won',\n",
       "       'player2 1st serve return points total',\n",
       "       'player2 2nd serve return points won',\n",
       "       'player2 2nd serve return points total',\n",
       "       'player2 break points converted won',\n",
       "       'player2 break points converted total', 'player2 return games played',\n",
       "       'player2 total service points won',\n",
       "       'player2 total service points total', 'player2 total return points won',\n",
       "       'player2 total return points total', 'player2 total points won',\n",
       "       'player2 total points total'],\n",
       "      dtype='object')"
      ]
     },
     "execution_count": 49,
     "metadata": {},
     "output_type": "execute_result"
    }
   ],
   "source": [
    "data.columns"
   ]
  },
  {
   "cell_type": "code",
   "execution_count": 53,
   "id": "000b82ca-0496-433f-8dcd-09641e3dd610",
   "metadata": {},
   "outputs": [
    {
     "data": {
      "text/plain": [
       "0       0.029126\n",
       "1       0.000000\n",
       "2       0.047297\n",
       "3       0.053846\n",
       "4            NaN\n",
       "          ...   \n",
       "1174    0.021739\n",
       "1175    0.034884\n",
       "1176    0.000000\n",
       "1177    0.011561\n",
       "1178         NaN\n",
       "Length: 1179, dtype: float64"
      ]
     },
     "execution_count": 53,
     "metadata": {},
     "output_type": "execute_result"
    }
   ],
   "source": [
    "sum=data['player1 double faults']+data['player2 double faults']\n",
    "total_points=data['player1 total points won']+data['player2 total points won']\n",
    "pro=sum/total_points\n",
    "pro"
   ]
  },
  {
   "cell_type": "code",
   "execution_count": 56,
   "id": "baac04ca-1a0e-4ec4-aaa6-0f17d62141d6",
   "metadata": {},
   "outputs": [
    {
     "data": {
      "text/plain": [
       "surface\n",
       "Indoor: Carpet    0.736842\n",
       "Indoor: Clay      0.833333\n",
       "Indoor: Hard      0.836283\n",
       "Outdoor: Clay     0.779116\n",
       "Outdoor: Grass    0.871429\n",
       "Outdoor: Hard     0.842324\n",
       "Name: winner, dtype: float64"
      ]
     },
     "execution_count": 56,
     "metadata": {},
     "output_type": "execute_result"
    }
   ],
   "source": [
    "sur=data.groupby('surface')['winner'].apply(lambda x: (x=='Roger Federer').mean())\n",
    "sur"
   ]
  },
  {
   "cell_type": "code",
   "execution_count": 59,
   "id": "e6b898c0-93ff-45c4-84b4-f0ce12680f77",
   "metadata": {},
   "outputs": [
    {
     "data": {
      "text/plain": [
       "year\n",
       "1998    0.031936\n",
       "1999    0.043523\n",
       "2000    0.042981\n",
       "2001    0.043571\n",
       "2002    0.035103\n",
       "2003    0.042785\n",
       "2004    0.029896\n",
       "2005    0.030677\n",
       "2006    0.026268\n",
       "2007    0.025484\n",
       "2008    0.025075\n",
       "2009    0.029509\n",
       "2010    0.024857\n",
       "2011    0.026632\n",
       "2012    0.027941\n",
       "Name: pro, dtype: float64"
      ]
     },
     "execution_count": 59,
     "metadata": {},
     "output_type": "execute_result"
    }
   ],
   "source": [
    "sum=data['player1 double faults']+data['player2 double faults']\n",
    "total_points=data['player1 total points won']+data['player2 total points won']\n",
    "pro=sum/total_points\n",
    "data['pro']=pro\n",
    "avg=data.groupby('year')['pro'].mean()\n",
    "avg"
   ]
  }
 ],
 "metadata": {
  "kernelspec": {
   "display_name": "Python 3 (ipykernel)",
   "language": "python",
   "name": "python3"
  },
  "language_info": {
   "codemirror_mode": {
    "name": "ipython",
    "version": 3
   },
   "file_extension": ".py",
   "mimetype": "text/x-python",
   "name": "python",
   "nbconvert_exporter": "python",
   "pygments_lexer": "ipython3",
   "version": "3.12.8"
  }
 },
 "nbformat": 4,
 "nbformat_minor": 5
}
